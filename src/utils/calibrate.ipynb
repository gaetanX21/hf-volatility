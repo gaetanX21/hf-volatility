{
 "cells": [
  {
   "cell_type": "code",
   "execution_count": 1,
   "metadata": {},
   "outputs": [],
   "source": [
    "import calibrate\n",
    "import simulate\n",
    "import matplotlib.pyplot as plt\n",
    "import numpy as np\n",
    "from scipy.optimize import minimize\n",
    "from time import time"
   ]
  },
  {
   "cell_type": "code",
   "execution_count": 121,
   "metadata": {},
   "outputs": [
    {
     "name": "stdout",
     "output_type": "stream",
     "text": [
      "Calibrated mu, alpha, beta:  0.37680808143291944 1e-06 2.3242139218561317\n",
      "True mu, alpha, beta:  0.5 0.2 0.3\n"
     ]
    }
   ],
   "source": [
    "mu, alpha, beta = 0.5, 0.2, 0.3\n",
    "hwk_proc = simulate.HawkesProcess(mu, alpha, beta)\n",
    "T = 10\n",
    "events = hwk_proc.simulate(T)\n",
    "intensity_func = lambda t: hwk_proc.get_rate(events, t)\n",
    "\n",
    "# plot the events\n",
    "# plt.figure()\n",
    "# plt.plot(events, [0]*len(events), 'x')\n",
    "# t_range = np.linspace(0, T, 1000)\n",
    "# intensity = [intensity_func(t) for t in t_range]\n",
    "# plt.plot(t_range, intensity)\n",
    "# plt.show()\n",
    "\n",
    "class HawkesProcessCalibrator:\n",
    "    def __init__(self, events):\n",
    "        self.events = events\n",
    "\n",
    "    def calibrate(self, timeit=False):\n",
    "        # source: https://www.ism.ac.jp/editsec/aism/pdf/031_1_0145.pdf\n",
    "        def nll(theta):\n",
    "            mu, alpha, beta = theta\n",
    "            t_n = self.events[-1]\n",
    "            n = len(self.events)\n",
    "            ll = - mu * t_n\n",
    "            for i in range(n):\n",
    "                ll += alpha/beta * (np.exp(-beta*(t_n - self.events[i])) - 1)\n",
    "            for i in range(n):\n",
    "                A_i = sum(np.exp(-beta*(self.events[i] - self.events[j])) for j in range(i))\n",
    "                ll += np.log(mu + alpha*A_i)\n",
    "            return -ll\n",
    "        \n",
    "        start = time()\n",
    "        res = minimize(fun=nll, x0=[1,1,2], bounds=[(1e-6, None), (1e-6, None), (1e-6, None)], method='L-BFGS-B')\n",
    "        end = time()\n",
    "        if timeit:\n",
    "            print(\"\\033[92mCalibration time: \", time() - start, \"s\\033[0m\")\n",
    "        return res.x\n",
    "        \n",
    "\n",
    "cal = HawkesProcessCalibrator(events)\n",
    "mu, alpha, beta = cal.calibrate()\n",
    "print(\"Calibrated mu, alpha, beta: \", mu, alpha, beta)\n",
    "print(\"True mu, alpha, beta: \", hwk_proc.mu, hwk_proc.alpha, hwk_proc.beta)"
   ]
  }
 ],
 "metadata": {
  "kernelspec": {
   "display_name": "Python 3",
   "language": "python",
   "name": "python3"
  },
  "language_info": {
   "codemirror_mode": {
    "name": "ipython",
    "version": 3
   },
   "file_extension": ".py",
   "mimetype": "text/x-python",
   "name": "python",
   "nbconvert_exporter": "python",
   "pygments_lexer": "ipython3",
   "version": "3.11.8"
  }
 },
 "nbformat": 4,
 "nbformat_minor": 2
}
