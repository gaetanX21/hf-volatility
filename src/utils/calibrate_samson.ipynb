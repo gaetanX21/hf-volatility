{
 "cells": [
  {
   "cell_type": "code",
   "execution_count": 1,
   "metadata": {},
   "outputs": [],
   "source": [
    "import calibrate\n",
    "import simulate\n",
    "import matplotlib.pyplot as plt\n",
    "import numpy as np\n",
    "from scipy.optimize import minimize\n",
    "import simulate"
   ]
  },
  {
   "cell_type": "code",
   "execution_count": 2,
   "metadata": {},
   "outputs": [],
   "source": [
    "class HawkesProcessCalibrator:\n",
    "    def __init__(self, events):\n",
    "        self.events = events\n",
    "\n",
    "    def calibrate(self):\n",
    "        res = minimize(fun=self.nll, x0=[1,1,2], bounds=[(1e-10, None), (1e-10, None), (1e-10, None)], method='L-BFGS-B')\n",
    "        return res.x\n",
    "    \n",
    "    def nll(self, theta):\n",
    "        # source: https://www.ism.ac.jp/editsec/aism/pdf/031_1_0145.pdf\n",
    "        mu, alpha, beta = theta\n",
    "        kappa = alpha/beta\n",
    "        t_n = self.events[-1]\n",
    "        n = len(self.events)\n",
    "        ll = t_n - mu * t_n\n",
    "        for i in range(n):\n",
    "            ll = ll - kappa * (1 - np.exp(-beta*(t_n - self.events[i])))\n",
    "\n",
    "        r_array = np.zeros(n)\n",
    "        for i in range(1, n):\n",
    "            r_array[i] = np.exp(-beta * (self.events[i] - self.events[i - 1])) * (1 + r_array[i - 1])\n",
    "\n",
    "        for i in range(n):\n",
    "            ll += np.log(mu + alpha*r_array[i])\n",
    "        return -ll"
   ]
  },
  {
   "cell_type": "code",
   "execution_count": 21,
   "metadata": {},
   "outputs": [
    {
     "ename": "AttributeError",
     "evalue": "'HawkesProcess' object has no attribute 'plot'",
     "output_type": "error",
     "traceback": [
      "\u001b[1;31m---------------------------------------------------------------------------\u001b[0m",
      "\u001b[1;31mAttributeError\u001b[0m                            Traceback (most recent call last)",
      "Cell \u001b[1;32mIn[21], line 5\u001b[0m\n\u001b[0;32m      3\u001b[0m T \u001b[38;5;241m=\u001b[39m \u001b[38;5;241m1000\u001b[39m\n\u001b[0;32m      4\u001b[0m events \u001b[38;5;241m=\u001b[39m hwk_proc\u001b[38;5;241m.\u001b[39msimulate(T)\n\u001b[1;32m----> 5\u001b[0m \u001b[43mhwk_proc\u001b[49m\u001b[38;5;241;43m.\u001b[39;49m\u001b[43mplot\u001b[49m(events)\n\u001b[0;32m      6\u001b[0m n_events \u001b[38;5;241m=\u001b[39m \u001b[38;5;28mlen\u001b[39m(events)\n\u001b[0;32m      7\u001b[0m \u001b[38;5;28mprint\u001b[39m(\u001b[38;5;124m\"\u001b[39m\u001b[38;5;124mNumber of events: \u001b[39m\u001b[38;5;124m\"\u001b[39m, n_events)\n",
      "\u001b[1;31mAttributeError\u001b[0m: 'HawkesProcess' object has no attribute 'plot'"
     ]
    }
   ],
   "source": [
    "mu, alpha, beta = 0.1, 1, 1.2\n",
    "hwk_proc = simulate.HawkesProcess(mu, alpha, beta)\n",
    "T = 1000\n",
    "events = hwk_proc.simulate(T)\n",
    "hwk_proc.plot(events)\n",
    "n_events = len(events)\n",
    "print(\"Number of events: \", n_events)\n",
    "\n",
    "cal = HawkesProcessCalibrator(events)\n",
    "mu, alpha, beta = cal.calibrate()\n",
    "print(\"Calibrated mu, alpha, beta: \", mu, alpha, beta)\n",
    "print(\"True mu, alpha, beta: \", hwk_proc.mu, hwk_proc.alpha, hwk_proc.beta)\n",
    "\n",
    "print(\"log-likelihood of true parameters: \", -cal.nll([hwk_proc.mu, hwk_proc.alpha, hwk_proc.beta]))\n",
    "print(\"log-likelihood of calibrated parameters: \", -cal.nll([mu, alpha, beta]))"
   ]
  }
 ],
 "metadata": {
  "kernelspec": {
   "display_name": "Python 3",
   "language": "python",
   "name": "python3"
  },
  "language_info": {
   "codemirror_mode": {
    "name": "ipython",
    "version": 3
   },
   "file_extension": ".py",
   "mimetype": "text/x-python",
   "name": "python",
   "nbconvert_exporter": "python",
   "pygments_lexer": "ipython3",
   "version": "3.11.8"
  }
 },
 "nbformat": 4,
 "nbformat_minor": 2
}
