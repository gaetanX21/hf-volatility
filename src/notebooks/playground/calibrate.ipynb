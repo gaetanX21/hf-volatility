{
 "cells": [
  {
   "cell_type": "code",
   "execution_count": 1,
   "metadata": {},
   "outputs": [],
   "source": [
    "from simulate import HawkesProcess\n",
    "from calibrate import HawkesCalibrator"
   ]
  },
  {
   "cell_type": "code",
   "execution_count": 5,
   "metadata": {},
   "outputs": [
    {
     "name": "stdout",
     "output_type": "stream",
     "text": [
      "\u001b[92mCalibration time:  0.3862423896789551 s\u001b[0m\n",
      "Estimated parameters: (0.06686441969347263, 0.5134651733443515, 0.5237194823870881)\n",
      "True parameters: (0.1, 0.5, 0.5)\n"
     ]
    }
   ],
   "source": [
    "mu, alpha, beta = 0.1, 0.5, 0.5\n",
    "theta = mu, alpha, beta\n",
    "hp = HawkesProcess(mu, alpha, beta)\n",
    "T = 1000\n",
    "events = hp.simulate(T)\n",
    "calibrator = HawkesCalibrator(events)\n",
    "theta_hat = calibrator.MLE()\n",
    "\n",
    "# hp.plot(events, T)\n",
    "\n",
    "print(f'Estimated parameters: {theta_hat}')\n",
    "print(f'True parameters: {theta}')"
   ]
  }
 ],
 "metadata": {
  "kernelspec": {
   "display_name": "Python 3",
   "language": "python",
   "name": "python3"
  },
  "language_info": {
   "codemirror_mode": {
    "name": "ipython",
    "version": 3
   },
   "file_extension": ".py",
   "mimetype": "text/x-python",
   "name": "python",
   "nbconvert_exporter": "python",
   "pygments_lexer": "ipython3",
   "version": "3.11.8"
  }
 },
 "nbformat": 4,
 "nbformat_minor": 2
}
