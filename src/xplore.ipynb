{
 "cells": [
  {
   "cell_type": "code",
   "execution_count": 26,
   "metadata": {},
   "outputs": [],
   "source": [
    "import pandas as pd\n",
    "import numpy as np\n",
    "import pickle as pkl"
   ]
  },
  {
   "cell_type": "code",
   "execution_count": 29,
   "metadata": {},
   "outputs": [],
   "source": [
    "with open('../datasets/sp500_futures.pkl', 'rb') as f:\n",
    "    df = pkl.load(f)"
   ]
  },
  {
   "cell_type": "code",
   "execution_count": 36,
   "metadata": {},
   "outputs": [],
   "source": [
    "df['day'] = df['timestamp'].dt.date\n",
    "df['time'] = df['timestamp'].dt.time"
   ]
  },
  {
   "cell_type": "code",
   "execution_count": 38,
   "metadata": {},
   "outputs": [
    {
     "data": {
      "text/plain": [
       "<Axes: xlabel='day'>"
      ]
     },
     "execution_count": 38,
     "metadata": {},
     "output_type": "execute_result"
    },
    {
     "data": {
      "image/png": "[encoded data removed]",
      "text/plain": [
       "<Figure size 640x480 with 1 Axes>"
      ]
     },
     "metadata": {},
     "output_type": "display_data"
    }
   ],
   "source": [
    "df.groupby('day').apply(lambda x: x['volume'].sum()).plot()"
   ]
  },
  {
   "cell_type": "markdown",
   "metadata": {},
   "source": [
    "# SPR"
   ]
  },
  {
   "cell_type": "code",
   "execution_count": 42,
   "metadata": {},
   "outputs": [],
   "source": [
    "df = pd.read_csv('../datasets/SPY_FirstRateDatacom/SPY_FirstRateDatacom.txt', header=None)\n",
    "df.columns = ['timestamp', 'open', 'high', 'low', 'close', 'volume']\n"
   ]
  },
  {
   "cell_type": "code",
   "execution_count": 70,
   "metadata": {},
   "outputs": [
    {
     "data": {
      "text/html": [
       "<div>\n",
       "<style scoped>\n",
       "    .dataframe tbody tr th:only-of-type {\n",
       "        vertical-align: middle;\n",
       "    }\n",
       "\n",
       "    .dataframe tbody tr th {\n",
       "        vertical-align: top;\n",
       "    }\n",
       "\n",
       "    .dataframe thead th {\n",
       "        text-align: right;\n",
       "    }\n",
       "</style>\n",
       "<table border=\"1\" class=\"dataframe\">\n",
       "  <thead>\n",
       "    <tr style=\"text-align: right;\">\n",
       "      <th></th>\n",
       "      <th>timestamp</th>\n",
       "      <th>open</th>\n",
       "      <th>high</th>\n",
       "      <th>low</th>\n",
       "      <th>close</th>\n",
       "      <th>volume</th>\n",
       "      <th>date</th>\n",
       "      <th>time</th>\n",
       "    </tr>\n",
       "  </thead>\n",
       "  <tbody>\n",
       "    <tr>\n",
       "      <th>0</th>\n",
       "      <td>2020-01-02 04:00:00</td>\n",
       "      <td>323.52</td>\n",
       "      <td>323.67</td>\n",
       "      <td>323.52</td>\n",
       "      <td>323.56</td>\n",
       "      <td>9391</td>\n",
       "      <td>2020-01-02</td>\n",
       "      <td>04:00:00</td>\n",
       "    </tr>\n",
       "    <tr>\n",
       "      <th>1</th>\n",
       "      <td>2020-01-02 04:01:00</td>\n",
       "      <td>323.68</td>\n",
       "      <td>323.69</td>\n",
       "      <td>323.61</td>\n",
       "      <td>323.61</td>\n",
       "      <td>905</td>\n",
       "      <td>2020-01-02</td>\n",
       "      <td>04:01:00</td>\n",
       "    </tr>\n",
       "    <tr>\n",
       "      <th>2</th>\n",
       "      <td>2020-01-02 04:02:00</td>\n",
       "      <td>323.68</td>\n",
       "      <td>323.68</td>\n",
       "      <td>323.68</td>\n",
       "      <td>323.68</td>\n",
       "      <td>121</td>\n",
       "      <td>2020-01-02</td>\n",
       "      <td>04:02:00</td>\n",
       "    </tr>\n",
       "    <tr>\n",
       "      <th>3</th>\n",
       "      <td>2020-01-02 04:03:00</td>\n",
       "      <td>323.69</td>\n",
       "      <td>323.69</td>\n",
       "      <td>323.69</td>\n",
       "      <td>323.69</td>\n",
       "      <td>127</td>\n",
       "      <td>2020-01-02</td>\n",
       "      <td>04:03:00</td>\n",
       "    </tr>\n",
       "    <tr>\n",
       "      <th>4</th>\n",
       "      <td>2020-01-02 04:04:00</td>\n",
       "      <td>323.64</td>\n",
       "      <td>323.64</td>\n",
       "      <td>323.64</td>\n",
       "      <td>323.64</td>\n",
       "      <td>100</td>\n",
       "      <td>2020-01-02</td>\n",
       "      <td>04:04:00</td>\n",
       "    </tr>\n",
       "    <tr>\n",
       "      <th>...</th>\n",
       "      <td>...</td>\n",
       "      <td>...</td>\n",
       "      <td>...</td>\n",
       "      <td>...</td>\n",
       "      <td>...</td>\n",
       "      <td>...</td>\n",
       "      <td>...</td>\n",
       "      <td>...</td>\n",
       "    </tr>\n",
       "    <tr>\n",
       "      <th>54369</th>\n",
       "      <td>2020-04-01 19:55:00</td>\n",
       "      <td>247.25</td>\n",
       "      <td>247.33</td>\n",
       "      <td>247.20</td>\n",
       "      <td>247.25</td>\n",
       "      <td>3079</td>\n",
       "      <td>2020-04-01</td>\n",
       "      <td>19:55:00</td>\n",
       "    </tr>\n",
       "    <tr>\n",
       "      <th>54370</th>\n",
       "      <td>2020-04-01 19:56:00</td>\n",
       "      <td>247.26</td>\n",
       "      <td>247.32</td>\n",
       "      <td>247.22</td>\n",
       "      <td>247.30</td>\n",
       "      <td>9720</td>\n",
       "      <td>2020-04-01</td>\n",
       "      <td>19:56:00</td>\n",
       "    </tr>\n",
       "    <tr>\n",
       "      <th>54371</th>\n",
       "      <td>2020-04-01 19:57:00</td>\n",
       "      <td>247.30</td>\n",
       "      <td>247.35</td>\n",
       "      <td>247.30</td>\n",
       "      <td>247.30</td>\n",
       "      <td>3895</td>\n",
       "      <td>2020-04-01</td>\n",
       "      <td>19:57:00</td>\n",
       "    </tr>\n",
       "    <tr>\n",
       "      <th>54372</th>\n",
       "      <td>2020-04-01 19:58:00</td>\n",
       "      <td>247.26</td>\n",
       "      <td>247.28</td>\n",
       "      <td>247.13</td>\n",
       "      <td>247.28</td>\n",
       "      <td>5926</td>\n",
       "      <td>2020-04-01</td>\n",
       "      <td>19:58:00</td>\n",
       "    </tr>\n",
       "    <tr>\n",
       "      <th>54373</th>\n",
       "      <td>2020-04-01 19:59:00</td>\n",
       "      <td>247.30</td>\n",
       "      <td>247.52</td>\n",
       "      <td>247.28</td>\n",
       "      <td>247.50</td>\n",
       "      <td>21512</td>\n",
       "      <td>2020-04-01</td>\n",
       "      <td>19:59:00</td>\n",
       "    </tr>\n",
       "  </tbody>\n",
       "</table>\n",
       "<p>54374 rows × 8 columns</p>\n",
       "</div>"
      ],
      "text/plain": [
       "                timestamp    open    high     low   close  volume        date  \\\n",
       "0     2020-01-02 04:00:00  323.52  323.67  323.52  323.56    9391  2020-01-02   \n",
       "1     2020-01-02 04:01:00  323.68  323.69  323.61  323.61     905  2020-01-02   \n",
       "2     2020-01-02 04:02:00  323.68  323.68  323.68  323.68     121  2020-01-02   \n",
       "3     2020-01-02 04:03:00  323.69  323.69  323.69  323.69     127  2020-01-02   \n",
       "4     2020-01-02 04:04:00  323.64  323.64  323.64  323.64     100  2020-01-02   \n",
       "...                   ...     ...     ...     ...     ...     ...         ...   \n",
       "54369 2020-04-01 19:55:00  247.25  247.33  247.20  247.25    3079  2020-04-01   \n",
       "54370 2020-04-01 19:56:00  247.26  247.32  247.22  247.30    9720  2020-04-01   \n",
       "54371 2020-04-01 19:57:00  247.30  247.35  247.30  247.30    3895  2020-04-01   \n",
       "54372 2020-04-01 19:58:00  247.26  247.28  247.13  247.28    5926  2020-04-01   \n",
       "54373 2020-04-01 19:59:00  247.30  247.52  247.28  247.50   21512  2020-04-01   \n",
       "\n",
       "           time  \n",
       "0      04:00:00  \n",
       "1      04:01:00  \n",
       "2      04:02:00  \n",
       "3      04:03:00  \n",
       "4      04:04:00  \n",
       "...         ...  \n",
       "54369  19:55:00  \n",
       "54370  19:56:00  \n",
       "54371  19:57:00  \n",
       "54372  19:58:00  \n",
       "54373  19:59:00  \n",
       "\n",
       "[54374 rows x 8 columns]"
      ]
     },
     "execution_count": 70,
     "metadata": {},
     "output_type": "execute_result"
    }
   ],
   "source": [
    "df"
   ]
  },
  {
   "cell_type": "markdown",
   "metadata": {},
   "source": [
    "# EUR/USD tick data"
   ]
  },
  {
   "cell_type": "code",
   "execution_count": 2,
   "metadata": {},
   "outputs": [
    {
     "ename": "NameError",
     "evalue": "name 'pd' is not defined",
     "output_type": "error",
     "traceback": [
      "\u001b[1;31m---------------------------------------------------------------------------\u001b[0m",
      "\u001b[1;31mNameError\u001b[0m                                 Traceback (most recent call last)",
      "Cell \u001b[1;32mIn[2], line 1\u001b[0m\n\u001b[1;32m----> 1\u001b[0m df \u001b[38;5;241m=\u001b[39m \u001b[43mpd\u001b[49m\u001b[38;5;241m.\u001b[39mread_csv(\u001b[38;5;124m'\u001b[39m\u001b[38;5;124m../datasets/EURUSD tick dec 2023/tick.csv\u001b[39m\u001b[38;5;124m'\u001b[39m, header\u001b[38;5;241m=\u001b[39m\u001b[38;5;28;01mNone\u001b[39;00m)\n\u001b[0;32m      2\u001b[0m df\u001b[38;5;241m.\u001b[39mcolumns \u001b[38;5;241m=\u001b[39m [\u001b[38;5;124m'\u001b[39m\u001b[38;5;124mtimestamp\u001b[39m\u001b[38;5;124m'\u001b[39m, \u001b[38;5;124m'\u001b[39m\u001b[38;5;124mbid\u001b[39m\u001b[38;5;124m'\u001b[39m, \u001b[38;5;124m'\u001b[39m\u001b[38;5;124mask\u001b[39m\u001b[38;5;124m'\u001b[39m, \u001b[38;5;124m'\u001b[39m\u001b[38;5;124mvolume\u001b[39m\u001b[38;5;124m'\u001b[39m]\n\u001b[0;32m      3\u001b[0m df[\u001b[38;5;124m'\u001b[39m\u001b[38;5;124mtimestamp\u001b[39m\u001b[38;5;124m'\u001b[39m] \u001b[38;5;241m=\u001b[39m pd\u001b[38;5;241m.\u001b[39mto_datetime(df[\u001b[38;5;124m'\u001b[39m\u001b[38;5;124mtimestamp\u001b[39m\u001b[38;5;124m'\u001b[39m], \u001b[38;5;28mformat\u001b[39m\u001b[38;5;241m=\u001b[39m\u001b[38;5;124m'\u001b[39m\u001b[38;5;124m%\u001b[39m\u001b[38;5;124mY\u001b[39m\u001b[38;5;124m%\u001b[39m\u001b[38;5;124mm\u001b[39m\u001b[38;5;132;01m%d\u001b[39;00m\u001b[38;5;124m \u001b[39m\u001b[38;5;124m%\u001b[39m\u001b[38;5;124mH\u001b[39m\u001b[38;5;124m%\u001b[39m\u001b[38;5;124mM\u001b[39m\u001b[38;5;124m%\u001b[39m\u001b[38;5;124mS\u001b[39m\u001b[38;5;132;01m%f\u001b[39;00m\u001b[38;5;124m'\u001b[39m)\n",
      "\u001b[1;31mNameError\u001b[0m: name 'pd' is not defined"
     ]
    }
   ],
   "source": [
    "df = pd.read_csv('../datasets/EURUSD tick dec 2023/tick.csv', header=None)\n",
    "df.columns = ['timestamp', 'bid', 'ask', 'volume']\n",
    "df['timestamp'] = pd.to_datetime(df['timestamp'], format='%Y%m%d %H%M%S%f')"
   ]
  },
  {
   "cell_type": "code",
   "execution_count": 81,
   "metadata": {},
   "outputs": [],
   "source": [
    "df[\"date\"] = df[\"timestamp\"].dt.date\n",
    "df[\"time\"] = df[\"timestamp\"].dt.time"
   ]
  },
  {
   "cell_type": "code",
   "execution_count": 84,
   "metadata": {},
   "outputs": [
    {
     "data": {
      "text/plain": [
       "<Axes: xlabel='date'>"
      ]
     },
     "execution_count": 84,
     "metadata": {},
     "output_type": "execute_result"
    },
    {
     "data": {
      "image/png": "[encoded data removed]",
      "text/plain": [
       "<Figure size 640x480 with 1 Axes>"
      ]
     },
     "metadata": {},
     "output_type": "display_data"
    }
   ],
   "source": [
    "df.groupby('date')['bid'].mean().plot()"
   ]
  },
  {
   "cell_type": "code",
   "execution_count": 1,
   "metadata": {},
   "outputs": [
    {
     "ename": "NameError",
     "evalue": "name 'df' is not defined",
     "output_type": "error",
     "traceback": [
      "\u001b[1;31m---------------------------------------------------------------------------\u001b[0m",
      "\u001b[1;31mNameError\u001b[0m                                 Traceback (most recent call last)",
      "Cell \u001b[1;32mIn[1], line 1\u001b[0m\n\u001b[1;32m----> 1\u001b[0m \u001b[43mdf\u001b[49m\n",
      "\u001b[1;31mNameError\u001b[0m: name 'df' is not defined"
     ]
    }
   ],
   "source": [
    "df"
   ]
  }
 ],
 "metadata": {
  "kernelspec": {
   "display_name": "Python 3",
   "language": "python",
   "name": "python3"
  },
  "language_info": {
   "codemirror_mode": {
    "name": "ipython",
    "version": 3
   },
   "file_extension": ".py",
   "mimetype": "text/x-python",
   "name": "python",
   "nbconvert_exporter": "python",
   "pygments_lexer": "ipython3",
   "version": "3.11.8"
  }
 },
 "nbformat": 4,
 "nbformat_minor": 2
}
